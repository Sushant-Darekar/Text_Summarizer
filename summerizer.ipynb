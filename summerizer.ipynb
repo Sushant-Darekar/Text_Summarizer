{
 "cells": [
  {
   "cell_type": "code",
   "execution_count": 1,
   "id": "b62713f9-5aa4-4536-a0de-b9b528b5d13e",
   "metadata": {},
   "outputs": [
    {
     "name": "stdout",
     "output_type": "stream",
     "text": [
      "Defaulting to user installation because normal site-packages is not writeable\n",
      "Requirement already satisfied: transformers in c:\\users\\prashant\\appdata\\roaming\\python\\python310\\site-packages (4.34.0)\n",
      "Requirement already satisfied: filelock in c:\\users\\prashant\\appdata\\roaming\\python\\python310\\site-packages (from transformers) (3.12.4)\n",
      "Requirement already satisfied: huggingface-hub<1.0,>=0.16.4 in c:\\users\\prashant\\appdata\\roaming\\python\\python310\\site-packages (from transformers) (0.17.3)\n",
      "Requirement already satisfied: numpy>=1.17 in c:\\users\\prashant\\appdata\\roaming\\python\\python310\\site-packages (from transformers) (1.26.0)\n",
      "Requirement already satisfied: packaging>=20.0 in c:\\users\\prashant\\appdata\\roaming\\python\\python310\\site-packages (from transformers) (23.2)\n",
      "Requirement already satisfied: pyyaml>=5.1 in c:\\users\\prashant\\appdata\\roaming\\python\\python310\\site-packages (from transformers) (6.0.1)\n",
      "Requirement already satisfied: regex!=2019.12.17 in c:\\users\\prashant\\appdata\\roaming\\python\\python310\\site-packages (from transformers) (2023.10.3)\n",
      "Requirement already satisfied: requests in c:\\users\\prashant\\appdata\\roaming\\python\\python310\\site-packages (from transformers) (2.31.0)\n",
      "Requirement already satisfied: tokenizers<0.15,>=0.14 in c:\\users\\prashant\\appdata\\roaming\\python\\python310\\site-packages (from transformers) (0.14.1)\n",
      "Requirement already satisfied: safetensors>=0.3.1 in c:\\users\\prashant\\appdata\\roaming\\python\\python310\\site-packages (from transformers) (0.4.0)\n",
      "Requirement already satisfied: tqdm>=4.27 in c:\\users\\prashant\\appdata\\roaming\\python\\python310\\site-packages (from transformers) (4.66.1)\n",
      "Requirement already satisfied: fsspec in c:\\users\\prashant\\appdata\\roaming\\python\\python310\\site-packages (from huggingface-hub<1.0,>=0.16.4->transformers) (2023.9.2)\n",
      "Requirement already satisfied: typing-extensions>=3.7.4.3 in c:\\users\\prashant\\appdata\\roaming\\python\\python310\\site-packages (from huggingface-hub<1.0,>=0.16.4->transformers) (4.8.0)\n",
      "Requirement already satisfied: colorama in c:\\users\\prashant\\appdata\\roaming\\python\\python310\\site-packages (from tqdm>=4.27->transformers) (0.4.6)\n",
      "Requirement already satisfied: charset-normalizer<4,>=2 in c:\\users\\prashant\\appdata\\roaming\\python\\python310\\site-packages (from requests->transformers) (3.3.0)\n",
      "Requirement already satisfied: idna<4,>=2.5 in c:\\users\\prashant\\appdata\\roaming\\python\\python310\\site-packages (from requests->transformers) (3.4)\n",
      "Requirement already satisfied: urllib3<3,>=1.21.1 in c:\\users\\prashant\\appdata\\roaming\\python\\python310\\site-packages (from requests->transformers) (2.0.6)\n",
      "Requirement already satisfied: certifi>=2017.4.17 in c:\\users\\prashant\\appdata\\roaming\\python\\python310\\site-packages (from requests->transformers) (2023.7.22)\n",
      "Note: you may need to restart the kernel to use updated packages.\n"
     ]
    },
    {
     "name": "stderr",
     "output_type": "stream",
     "text": [
      "WARNING: There was an error checking the latest version of pip.\n"
     ]
    }
   ],
   "source": [
    "pip install transformers"
   ]
  },
  {
   "cell_type": "code",
   "execution_count": 2,
   "id": "bc386009-3e10-405f-a96a-8b5824802ea2",
   "metadata": {},
   "outputs": [],
   "source": [
    "from transformers import pipeline"
   ]
  },
  {
   "cell_type": "code",
   "execution_count": 3,
   "id": "05d85482-6ee8-4ce4-a01d-74614ba1a072",
   "metadata": {},
   "outputs": [
    {
     "name": "stderr",
     "output_type": "stream",
     "text": [
      "No model was supplied, defaulted to sshleifer/distilbart-cnn-12-6 and revision a4f8f3e (https://huggingface.co/sshleifer/distilbart-cnn-12-6).\n",
      "Using a pipeline without specifying a model name and revision in production is not recommended.\n"
     ]
    }
   ],
   "source": [
    "summarizer = pipeline(\"summarization\")"
   ]
  },
  {
   "cell_type": "code",
   "execution_count": 7,
   "id": "1a04b66a-d5d4-49be-815a-42034a28f279",
   "metadata": {},
   "outputs": [],
   "source": [
    "TEXT = \"\"\" Python's thriving community and ecosystem are instrumental in its success. A dedicated community of developers continually contributes to its\n",
    "growth, resulting in a wealth of open-source libraries and frameworks. For instance, Django is popular for web development, while NumPy is a go-to\n",
    "choice for scientific computing.Cross-platform compatibility is another strength of Python. It's available on multiple operating systems, including\n",
    "Windows, macOS, and various Linux distributions, ensuring that code can be deployed across a wide range of environments without modification.Python is\n",
    "an interpreted language, which means you can write and run code without the need for a separate compilation step. This makes it highly suitable for\n",
    "rapid development, prototyping, and scripting tasks.The language's high-level nature abstracts many low-level details, allowing developers to focus on\n",
    "problem-solving and application development rather than dealing with system-specific intricacies. Python is known for its dynamic typing, which enables\n",
    "flexibility and expressive coding without requiring explicit type declarations for variables.Python's open-source nature means that it's freely\n",
    "available, and developers can contribute to its development or modify it to suit specific needs. Finally, Python has gained prominence in various\n",
    "domains due to the availability of powerful frameworks like Flask and Pyramid for web development and TensorFlow and PyTorch for machine learning and\n",
    "deep learning.\n",
    "\"\"\""
   ]
  },
  {
   "cell_type": "code",
   "execution_count": 8,
   "id": "a199b0b6-a48e-4869-9c87-d3addab94e74",
   "metadata": {},
   "outputs": [
    {
     "data": {
      "text/plain": [
       "[{'summary_text': \" Python is highly suitable for development, prototyping, and scripting tasks . The language's high-level nature abstracts many low-level details, allowing developers to focus on problem-solving and application development rather than dealing with system-specific intricacies . Python's open-source nature means developers can contribute to its development or modify it .\"}]"
      ]
     },
     "execution_count": 8,
     "metadata": {},
     "output_type": "execute_result"
    }
   ],
   "source": [
    "summarizer(TEXT, max_length=100, min_length=30, do_sample=False)"
   ]
  },
  {
   "cell_type": "code",
   "execution_count": null,
   "id": "2bcdcc46-c2fc-450a-bb3b-b259faae3c23",
   "metadata": {},
   "outputs": [],
   "source": []
  }
 ],
 "metadata": {
  "kernelspec": {
   "display_name": "Python 3 (ipykernel)",
   "language": "python",
   "name": "python3"
  },
  "language_info": {
   "codemirror_mode": {
    "name": "ipython",
    "version": 3
   },
   "file_extension": ".py",
   "mimetype": "text/x-python",
   "name": "python",
   "nbconvert_exporter": "python",
   "pygments_lexer": "ipython3",
   "version": "3.10.6"
  }
 },
 "nbformat": 4,
 "nbformat_minor": 5
}
